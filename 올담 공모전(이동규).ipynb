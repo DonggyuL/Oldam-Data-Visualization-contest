{
 "cells": [
  {
   "cell_type": "code",
   "execution_count": 2,
   "id": "5614b6da",
   "metadata": {},
   "outputs": [],
   "source": [
    "#Colab 환경에서 코딩 후 복사한 소스파일입니다.\n",
    "#원본 링크\n",
    "#https://colab.research.google.com/drive/1RLGann11sZEVBtp873NmTQCEgp_p6QgK?usp=sharing"
   ]
  },
  {
   "cell_type": "code",
   "execution_count": null,
   "id": "e51a7a05",
   "metadata": {},
   "outputs": [],
   "source": []
  },
  {
   "cell_type": "code",
   "execution_count": null,
   "id": "53065fe7",
   "metadata": {},
   "outputs": [],
   "source": [
    "#드라이브 마운트 (Colab 환경)\n",
    "from google.colab import drive\n",
    "drive.mount('/content/drive')\n",
    "path = '/content/drive/MyDrive/Colab Notebooks/11. 올담 데이터 시각화/데이터/'"
   ]
  },
  {
   "cell_type": "code",
   "execution_count": null,
   "id": "e6467ed1",
   "metadata": {},
   "outputs": [],
   "source": []
  },
  {
   "cell_type": "code",
   "execution_count": null,
   "id": "5ad6a85a",
   "metadata": {},
   "outputs": [],
   "source": [
    "#라이브러리 Import"
   ]
  },
  {
   "cell_type": "code",
   "execution_count": null,
   "id": "d15d4742",
   "metadata": {},
   "outputs": [],
   "source": [
    "pip install folium #folium 설치"
   ]
  },
  {
   "cell_type": "code",
   "execution_count": null,
   "id": "858e666c",
   "metadata": {},
   "outputs": [],
   "source": [
    "pip install koreanize-matplotlib #matplitlib 한국어 다운"
   ]
  },
  {
   "cell_type": "code",
   "execution_count": null,
   "id": "f8ed9a2f",
   "metadata": {},
   "outputs": [],
   "source": [
    "#데이터 라이브러리\n",
    "import pandas as pd\n",
    "import numpy as np\n",
    "from sklearn.preprocessing import MinMaxScaler\n",
    "\n",
    "#그래프 라이브러리\n",
    "import plotly\n",
    "import plotly.express as px\n",
    "import plotly.graph_objects as go\n",
    "from plotly.subplots import make_subplots\n",
    "import matplotlib.pyplot as plt\n",
    "import seaborn as sns\n",
    "import folium #지도\n",
    "\n",
    "import koreanize_matplotlib"
   ]
  },
  {
   "cell_type": "code",
   "execution_count": null,
   "id": "765bc177",
   "metadata": {},
   "outputs": [],
   "source": []
  },
  {
   "cell_type": "code",
   "execution_count": null,
   "id": "5e19a9b3",
   "metadata": {},
   "outputs": [],
   "source": [
    "#데이터 정제"
   ]
  },
  {
   "cell_type": "code",
   "execution_count": null,
   "id": "9e5f5011",
   "metadata": {},
   "outputs": [],
   "source": [
    "# 데이터 합치기 (파일 다운할 때 나눠서 다운 가능)\n",
    "file_a = pd.read_csv(path+'인허가 충청남도 휴게음식점 정보.csv', encoding = 'euc-kr')\n",
    "file_a1 = pd.read_csv(path+'인허가 충청남도 휴게음식점 정보 (1).csv', encoding = 'euc-kr')\n",
    "file_a2 = pd.read_csv(path+'인허가 충청남도 휴게음식점 정보 (2).csv', encoding = 'euc-kr')\n",
    "file_a3 = pd.read_csv(path+'인허가 충청남도 휴게음식점 정보 (3).csv', encoding = 'euc-kr')\n",
    "file_a = pd.concat([file_a, file_a1, file_a2, file_a3], ignore_index = True)\n",
    "#ignore_index : 겹치는 인덱스 무시\n",
    "\n",
    "file_b = pd.read_csv(path+'인허가 충청남도 건강기능식품일반판매업 정보.csv', encoding = 'euc-kr')\n",
    "file_b1 = pd.read_csv(path+'인허가 충청남도 건강기능식품일반판매업 정보 (1).csv', encoding = 'euc-kr')\n",
    "file_b2 = pd.read_csv(path+'인허가 충청남도 건강기능식품일반판매업 정보 (2).csv', encoding = 'euc-kr')\n",
    "file_b = pd.concat([file_b, file_b1, file_b2], ignore_index = True)\n",
    "\n",
    "file_a.to_csv('인허가 충청남도 휴게음식점 정보 전체.csv', mode='w', encoding = 'euc-kr')\n",
    "file_b.to_csv('인허가 충청남도 건강기능식품일반판매업 정보 전체.csv', mode='w', encoding = 'euc-kr')"
   ]
  },
  {
   "cell_type": "code",
   "execution_count": null,
   "id": "b76bfce7",
   "metadata": {},
   "outputs": [],
   "source": [
    "#데이터 불러오기\n",
    "health_food = pd.read_csv(path+'인허가 충청남도 건강기능식품일반판매업 정보 전체.csv', encoding='euc-kr')\n",
    "karaoke = pd.read_csv(path+'인허가 충청남도 노래연습장업 정보.csv', encoding='euc-kr')\n",
    "pub = pd.read_csv(path+'인허가 충청남도 단란주점영업 정보.csv', encoding='euc-kr')\n",
    "public_bath = pd.read_csv(path+'인허가 충청남도 목욕장업 정보.csv', encoding='euc-kr')\n",
    "laundry = pd.read_csv(path+'인허가 충청남도 세탁업 정보.csv', encoding='euc-kr')\n",
    "accomodation = pd.read_csv(path+'인허가 충청남도 숙박업 정보.csv', encoding='euc-kr')\n",
    "barber = pd.read_csv(path+'인허가 충청남도 이용업 정보.csv', encoding='euc-kr')\n",
    "camp = pd.read_csv(path+'인허가 충청남도 일반야영장업 정보.csv', encoding='euc-kr')\n",
    "temple = pd.read_csv(path+'인허가 충청남도 전통사찰 정보.csv', encoding='euc-kr')\n",
    "bakery = pd.read_csv(path+'인허가 충청남도 제과점영업 정보.csv', encoding='euc-kr')\n",
    "rest_area = bakery = pd.read_csv(path+'인허가 충청남도 휴게음식점 정보 전체.csv', encoding='euc-kr')\n",
    "\n",
    "tourist_info_center = pd.read_csv(path+'충청남도 관광안내소표준데이터.csv', encoding='euc-kr')\n",
    "\n",
    "\n",
    "#필요한 정보 추출\n",
    "health_food = health_food[['사업장명', '도로명주소']]\n",
    "karaoke = karaoke[['사업장명', '도로명주소']]\n",
    "pub = pub[['사업장명', '도로명주소']]\n",
    "public_bath = public_bath[['사업장명', '도로명주소']]\n",
    "laundry = laundry[['사업장명', '도로명주소']]\n",
    "accomodation = accomodation[['사업장명', '도로명주소']]\n",
    "barber = barber[['사업장명', '도로명주소']]\n",
    "camp = camp[['사업장명', '도로명주소']]\n",
    "temple = temple[['사업장명', '도로명주소']]\n",
    "bakery = bakery[['사업장명', '도로명주소']]\n",
    "rest_area = rest_area[['사업장명', '도로명주소']]\n",
    "\n",
    "tourist_info_center = tourist_info_center[['관광안내소명', '시군구명']]"
   ]
  },
  {
   "cell_type": "code",
   "execution_count": null,
   "id": "56688168",
   "metadata": {},
   "outputs": [],
   "source": [
    "#도로명주소를 '시군'으로만 표시"
   ]
  },
  {
   "cell_type": "code",
   "execution_count": null,
   "id": "3e15caf6",
   "metadata": {},
   "outputs": [],
   "source": [
    "#올담 데이터에 15개 시군으로 구분됨\n",
    "#도로명주소가 \"충청남도 천안시 서북구~\"형식이어서 띄워쓰기로\n",
    "#분리한 후 두번째 칸의 시군을 가져옴\n",
    "health_food['도로명주소'] = health_food['도로명주소'].str.split(' ').str[1]\n",
    "karaoke['도로명주소'] = karaoke['도로명주소'].str.split(' ').str[1]\n",
    "pub['도로명주소'] = pub['도로명주소'].str.split(' ').str[1]\n",
    "public_bath['도로명주소'] = public_bath['도로명주소'].str.split(' ').str[1]\n",
    "laundry['도로명주소'] = laundry['도로명주소'].str.split(' ').str[1]\n",
    "accomodation['도로명주소'] = accomodation['도로명주소'].str.split(' ').str[1]\n",
    "barber['도로명주소'] = barber['도로명주소'].str.split(' ').str[1]\n",
    "camp['도로명주소'] = camp['도로명주소'].str.split(' ').str[1]\n",
    "temple['도로명주소'] = temple['도로명주소'].str.split(' ').str[1]\n",
    "bakery['도로명주소'] = bakery['도로명주소'].str.split(' ').str[1]\n",
    "rest_area['도로명주소'] = rest_area['도로명주소'].str.split(' ').str[1]\n",
    "\n",
    "#관광안내소는 시군이 분리되어 있음.\n",
    "tourist_info_center.rename(columns={'시군구명':'도로명주소'}, inplace=True) #다른 데이터와 동일하게 칼럼명 설정"
   ]
  },
  {
   "cell_type": "code",
   "execution_count": null,
   "id": "aef24f2f",
   "metadata": {},
   "outputs": [],
   "source": [
    "#결측치"
   ]
  },
  {
   "cell_type": "code",
   "execution_count": null,
   "id": "ca9cb575",
   "metadata": {},
   "outputs": [],
   "source": [
    "#결측치 확인\n",
    "#print(숙박업.info())\n",
    "#print(노래연습장업.info())\n",
    "#print(관광안내소.info()) => 결측치 없음\n",
    "\n",
    "#결측치 제거 (도로명주소)\n",
    "#inplace=True => 반환하지 않아도 원본 변함\n",
    "health_food.dropna(subset=['도로명주소'], inplace=True)\n",
    "karaoke.dropna(subset=['도로명주소'], inplace=True)\n",
    "pub.dropna(subset=['도로명주소'], inplace=True)\n",
    "public_bath.dropna(subset=['도로명주소'], inplace=True)\n",
    "laundry.dropna(subset=['도로명주소'], inplace=True)\n",
    "accomodation.dropna(subset=['도로명주소'], inplace=True)\n",
    "barber.dropna(subset=['도로명주소'], inplace=True)\n",
    "camp.dropna(subset=['도로명주소'], inplace=True)\n",
    "temple.dropna(subset=['도로명주소'], inplace=True)\n",
    "bakery.dropna(subset=['도로명주소'], inplace=True)\n",
    "rest_area.dropna(subset=['도로명주소'], inplace=True)\n",
    "\n",
    "#index reset (drop: 기존 인덱스 제거)\n",
    "health_food.reset_index(inplace=True, drop=True)\n",
    "karaoke.reset_index(inplace=True, drop=True)\n",
    "pub.reset_index(inplace=True, drop=True)\n",
    "public_bath.reset_index(inplace=True, drop=True)\n",
    "laundry.reset_index(inplace=True, drop=True)\n",
    "accomodation.reset_index(inplace=True, drop=True)\n",
    "barber.reset_index(inplace=True, drop=True)\n",
    "camp.reset_index(inplace=True, drop=True)\n",
    "temple.reset_index(inplace=True, drop=True)\n",
    "bakery.reset_index(inplace=True, drop=True)\n",
    "rest_area.reset_index(inplace=True, drop=True)"
   ]
  },
  {
   "cell_type": "code",
   "execution_count": null,
   "id": "3a28b23b",
   "metadata": {},
   "outputs": [],
   "source": [
    "#올담 데이터의 시군에 포함되지 않은, 강남구, 청주시는 제거\n",
    "#file['도로명주소'].unique() 해보면, 건강기능식품점에만 올담 데이터의 15개 시군에 포함되지 않은 데이터 존재\n",
    "#나머지 파일은 15개 시군에 포함됨\n",
    "print('건강기능식품점: ', health_food['도로명주소'].unique())\n",
    "\n",
    "health_food = health_food[(health_food['도로명주소'] != '강남구') & (health_food['도로명주소'] != '청주시')]\n",
    "health_food['도로명주소'].unique() #강남구, 청주시 제거됨"
   ]
  },
  {
   "cell_type": "code",
   "execution_count": null,
   "id": "d9874f3f",
   "metadata": {},
   "outputs": [],
   "source": [
    "#데이터프레임 생성"
   ]
  },
  {
   "cell_type": "code",
   "execution_count": null,
   "id": "2355a338",
   "metadata": {},
   "outputs": [],
   "source": [
    "#시군별로 갯수 확인 df.value_counts()\n",
    "health_food = health_food['도로명주소'].value_counts().sort_index()\n",
    "karaoke = karaoke['도로명주소'].value_counts().sort_index()\n",
    "pub = pub['도로명주소'].value_counts().sort_index()\n",
    "public_bath = public_bath['도로명주소'].value_counts().sort_index()\n",
    "laundry = laundry['도로명주소'].value_counts().sort_index()\n",
    "accomodation = accomodation['도로명주소'].value_counts().sort_index()\n",
    "barber = barber['도로명주소'].value_counts().sort_index()\n",
    "#file['도로명주소'].unique()하면 camp는 '계룡시'가 전혀 없음 => 0으로 추가.\n",
    "camp = camp['도로명주소'].value_counts()\n",
    "camp['계룡시'] = 0\n",
    "camp = camp.sort_index()\n",
    "#file['도로명주소'].unique()하면 camp는 '계룡시'가 전혀 없음 => 0으로 추가.\n",
    "temple = temple['도로명주소'].value_counts()\n",
    "temple['계룡시'] = 0\n",
    "temple = temple.sort_index()\n",
    "bakery = bakery['도로명주소'].value_counts().sort_index()\n",
    "rest_area = rest_area['도로명주소'].value_counts().sort_index()\n",
    "tourist_info_center = tourist_info_center['도로명주소'].value_counts().sort_index()\n",
    "\n",
    "#sort한 순서이고 단위는 1만명\n",
    "#(계룡시, 공주시, 금산군, 논산시, 당진시, 보령시, 부여군, 서산시, 서천군, 아산시, 예산군, 천안시, 청양군, 태안군, 홍성군)\n",
    "#외부 방문객\n",
    "ex_visitor = [35.3, 182.4, 63.4, 110.5, 160.5, 116.3, 71.2, 125.3, 66.2, 272.5, 119.5, 63.4, 36.2, 91.7, 94.9]\n",
    "ex_visitor = pd.Series(ex_visitor, index=['계룡시', '공주시', '금산군', '논산시', '당진시', \n",
    "                                  '보령시', '부여군', '서산시', '서천군', '아산시', '예산군', \n",
    "                                  '천안시', '청양군', '태안군', '홍성군'])\n",
    "#충남관광재단에 따르면 전년대비 천안시, 예산군이 가장 크게 증가\n",
    "\n",
    "#전체 방문객\n",
    "tot_visitor = [108.1, 322.5, 166.0, 320.3, 486.4, 332.5, 211.8, 424.9, 166.9, 785.7, 264.0, 1388.4, 85.0, 243.6, 252.8]\n",
    "tot_visitor = pd.Series(tot_visitor, index=['계룡시', '공주시', '금산군', '논산시', '당진시', \n",
    "                                  '보령시', '부여군', '서산시', '서천군', '아산시', '예산군', \n",
    "                                  '천안시', '청양군', '태안군', '홍성군'])\n",
    "#충남관광재단에 따르면 전년대비 천안시, 예산군이 가장 크게 증가\n",
    "\n",
    "\n",
    "#인구수\n",
    "population = [0.45, 1.02, 0.5, 1.12, 1.68, 0.97, 0.62, 1.76, 0.5, \n",
    "              3.37, 0.78, 6.57, 0.3, 0.61, 0.98]\n",
    "#출처, 네이버 충청남도 인구[단위 10만명], 23.02 기준\n",
    "population = pd.Series(population, index=['계룡시', '공주시', '금산군', '논산시', '당진시', \n",
    "                                  '보령시', '부여군', '서산시', '서천군', '아산시', '예산군', \n",
    "                                  '천안시', '청양군', '태안군', '홍성군'])"
   ]
  },
  {
   "cell_type": "code",
   "execution_count": null,
   "id": "73e48b9b",
   "metadata": {},
   "outputs": [],
   "source": [
    "#data 생성\n",
    "data = pd.DataFrame()\n",
    "#index 설정\n",
    "data.index = ['계룡시', '공주시', '금산군', '논산시', '당진시', '보령시', '부여군', '서산시', '서천군', \n",
    "        '아산시', '예산군', '천안시', '청양군', '태안군', '홍성군']\n",
    "\n",
    "data['health_food'] = health_food\n",
    "data['karaoke'] = karaoke\n",
    "data['pub'] = pub\n",
    "data['public_bath'] = public_bath\n",
    "data['laundry'] = laundry\n",
    "data['accomodation'] = accomodation\n",
    "data['barber'] = barber\n",
    "data['camp'] = camp\n",
    "data['temple'] = temple\n",
    "data['bakery'] = bakery\n",
    "data['rest_area'] = rest_area\n",
    "\n",
    "data['tourist_info_center'] = tourist_info_center\n",
    "data['population'] = population\n",
    "data['ex_visitor'] = ex_visitor\n",
    "data['tot_visitor'] = tot_visitor"
   ]
  },
  {
   "cell_type": "code",
   "execution_count": null,
   "id": "3f4765aa",
   "metadata": {},
   "outputs": [],
   "source": [
    "#관광안내소 NaN은 해당 시군에 없다는 의미로 0으로 결측치 채운다 (계룡시, 청양군)\n",
    "data['tourist_info_center'] = data['tourist_info_center'].fillna(0)"
   ]
  },
  {
   "cell_type": "code",
   "execution_count": null,
   "id": "23481f86",
   "metadata": {},
   "outputs": [],
   "source": []
  },
  {
   "cell_type": "code",
   "execution_count": null,
   "id": "907de185",
   "metadata": {},
   "outputs": [],
   "source": [
    "#시각화"
   ]
  },
  {
   "cell_type": "code",
   "execution_count": null,
   "id": "7bc4e8c4",
   "metadata": {},
   "outputs": [],
   "source": [
    "#산업-방문객 상관관계 분석"
   ]
  },
  {
   "cell_type": "code",
   "execution_count": null,
   "id": "714e1564",
   "metadata": {},
   "outputs": [],
   "source": [
    "data"
   ]
  },
  {
   "cell_type": "code",
   "execution_count": null,
   "id": "76bf0d91",
   "metadata": {},
   "outputs": [],
   "source": [
    "#정규화\n",
    "sns.set(style=\"white\")\n",
    "\n",
    "corr = data.corr()\n",
    "\n",
    "f, ax = plt.subplots(figsize=(9, 9))\n",
    "cmap = sns.light_palette(\"seagreen\", as_cmap=True)\n",
    "sns.heatmap(corr, cmap=cmap, center=0, fmt=\".1f\",\n",
    "            linewidths=0.5, annot=True)\n",
    "\n",
    "plt.title('Tour data correlation', size=15)\n",
    "ax.set_xticklabels(list(data.columns), size=10, rotation=90)\n",
    "ax.set_yticklabels(list(data.columns), size=10, rotation=0);"
   ]
  },
  {
   "cell_type": "code",
   "execution_count": null,
   "id": "be280881",
   "metadata": {},
   "outputs": [],
   "source": []
  },
  {
   "cell_type": "code",
   "execution_count": null,
   "id": "959af6bd",
   "metadata": {},
   "outputs": [],
   "source": [
    "#인구수 대비 외부 방문객"
   ]
  },
  {
   "cell_type": "code",
   "execution_count": null,
   "id": "d97d497a",
   "metadata": {},
   "outputs": [],
   "source": [
    "#외부 방문객\n",
    "ex_visitor = [35.3, 182.4, 63.4, 110.5, 160.5, 116.3, 71.2, 125.3, 66.2, 272.5, 119.5, 63.4, 36.2, 91.7, 94.9]\n",
    "ex_visitor = pd.Series(ex_visitor, index=['계룡시', '공주시', '금산군', '논산시', '당진시', \n",
    "                                  '보령시', '부여군', '서산시', '서천군', '아산시', '예산군', \n",
    "                                  '천안시', '청양군', '태안군', '홍성군'])\n",
    "#충남관광재단에 따르면 전년대비 천안시, 예산군이 가장 크게 증가\n",
    "\n",
    "#인구수\n",
    "population = [0.45, 1.02, 0.5, 1.12, 1.68, 0.97, 0.62, 1.76, 0.5, \n",
    "              3.37, 0.78, 6.57, 0.3, 0.61, 0.98]\n",
    "#출처, 네이버 충청남도 인구[단위 10만명], 23.02 기준\n",
    "population = pd.Series(population, index=['계룡시', '공주시', '금산군', '논산시', '당진시', \n",
    "                                  '보령시', '부여군', '서산시', '서천군', '아산시', '예산군', \n",
    "                                  '천안시', '청양군', '태안군', '홍성군'])\n",
    "population = population*100 #ex_visitor에 비해 너무 작아서 확대\n",
    "\n",
    "data1 = pd.DataFrame()\n",
    "data1['ex_visitor'] = ex_visitor\n",
    "data1['population'] = population\n",
    "#인덱스의 시군을 칼럼으로\n",
    "data1['region'] = data1.index\n",
    "data1.reset_index(inplace=True, drop=True)"
   ]
  },
  {
   "cell_type": "code",
   "execution_count": null,
   "id": "ce354cdc",
   "metadata": {},
   "outputs": [],
   "source": [
    "#bar chart\n",
    "fig = px.bar(data1, x=['ex_visitor', 'population'], y='region')\n",
    "fig.show()"
   ]
  },
  {
   "cell_type": "code",
   "execution_count": null,
   "id": "c6cc4501",
   "metadata": {},
   "outputs": [],
   "source": []
  },
  {
   "cell_type": "code",
   "execution_count": null,
   "id": "5ee0f77a",
   "metadata": {},
   "outputs": [],
   "source": [
    "#시군별 외부 방문객에 대한 영향 파악"
   ]
  },
  {
   "cell_type": "code",
   "execution_count": null,
   "id": "6d790690",
   "metadata": {},
   "outputs": [],
   "source": [
    "data2 = data[['pub', 'camp', 'temple']]\n",
    "\n",
    "#인덱스의 시군을 칼럼으로\n",
    "data2['region'] = data2.index\n",
    "data2.reset_index(inplace=True, drop=True)"
   ]
  },
  {
   "cell_type": "code",
   "execution_count": null,
   "id": "cd1b4fed",
   "metadata": {},
   "outputs": [],
   "source": [
    "data2 #데이터 확인"
   ]
  },
  {
   "cell_type": "code",
   "execution_count": null,
   "id": "92f5971e",
   "metadata": {},
   "outputs": [],
   "source": [
    "#bar chart\n",
    "fig = px.bar(data2, x=['pub', 'camp', 'temple'], y='region', orientation='h',\n",
    "             barmode='group')\n",
    "fig.show()"
   ]
  },
  {
   "cell_type": "code",
   "execution_count": null,
   "id": "876fcfe4",
   "metadata": {},
   "outputs": [],
   "source": []
  },
  {
   "cell_type": "code",
   "execution_count": null,
   "id": "c7204297",
   "metadata": {},
   "outputs": [],
   "source": [
    "#천안시 vs. 아산시, 보령시의 정량적인 차이 분석"
   ]
  },
  {
   "cell_type": "code",
   "execution_count": null,
   "id": "79ece6be",
   "metadata": {},
   "outputs": [],
   "source": [
    "data3 = data.loc[['천안시', '아산시', '보령시'], :]\n",
    "#전체 방문객은 제외\n",
    "data3.drop('tot_visitor', axis=1, inplace=True)\n",
    "#data3.reset_index(inplace=True)\n",
    "#data3.rename(columns={'index':'region'}, inplace=True)"
   ]
  },
  {
   "cell_type": "code",
   "execution_count": null,
   "id": "16c63d37",
   "metadata": {},
   "outputs": [],
   "source": [
    "data3"
   ]
  },
  {
   "cell_type": "code",
   "execution_count": null,
   "id": "d689d98d",
   "metadata": {},
   "outputs": [],
   "source": [
    "#Pie chart\n",
    "fig = make_subplots(rows=1, cols=3, \n",
    "                    specs=[[{'type':'pie'}, {'type': 'pie'}, {'type': 'pie'}]],\n",
    "                    subplot_titles=('천안시', '아산시', '보령시'))\n",
    "fig.add_trace(\n",
    "    go.Pie(values=data3.loc['천안시'], labels=data3.columns),\n",
    "    row=1, col=1\n",
    ")\n",
    "fig.add_trace(\n",
    "    go.Pie(values=data3.loc['아산시'], labels=data3.columns),\n",
    "    row=1, col=2\n",
    ")\n",
    "fig.add_trace(\n",
    "    go.Pie(values=data3.loc['보령시'], labels=data3.columns),\n",
    "    row=1, col=3\n",
    ")\n",
    "\n",
    "fig.show()"
   ]
  },
  {
   "cell_type": "code",
   "execution_count": null,
   "id": "5bf234e6",
   "metadata": {},
   "outputs": [],
   "source": []
  },
  {
   "cell_type": "code",
   "execution_count": null,
   "id": "6f1d3b4d",
   "metadata": {},
   "outputs": [],
   "source": [
    "#시군별 관광지 현황 (지도)"
   ]
  },
  {
   "cell_type": "code",
   "execution_count": null,
   "id": "ef0bd14e",
   "metadata": {},
   "outputs": [],
   "source": [
    "#필요 정보: 관광안내소명, 시군구명, 위도, 경도\n",
    "file = pd.read_csv(path+'충청남도 관광안내소표준데이터.csv', encoding = 'euc-kr')\n",
    "file = file[['관광안내소명', '시군구명', '위도', '경도']]\n",
    "file.info() #결측치 없음을 확인"
   ]
  },
  {
   "cell_type": "code",
   "execution_count": null,
   "id": "c5a18fc2",
   "metadata": {},
   "outputs": [],
   "source": [
    "latitude = 36.5 #위도\n",
    "longitude = 127.5 #경도\n",
    "m = folium.Map(location=[latitude, longitude],\n",
    "               zoom_start=8,\n",
    "               width=600,\n",
    "               hegith=400)"
   ]
  },
  {
   "cell_type": "code",
   "execution_count": null,
   "id": "d1fc97f8",
   "metadata": {},
   "outputs": [],
   "source": [
    "#지도에 관광안내소를 원으로 표시\n",
    "for i in range(30):\n",
    "  folium.CircleMarker([file['위도'][i], file['경도'][i]],\n",
    "                 popup=file['관광안내소명'][i],\n",
    "                 radius=10, color='red').add_to(m)\n",
    "m #지도 표시"
   ]
  }
 ],
 "metadata": {
  "kernelspec": {
   "display_name": "Python 3",
   "language": "python",
   "name": "python3"
  },
  "language_info": {
   "codemirror_mode": {
    "name": "ipython",
    "version": 3
   },
   "file_extension": ".py",
   "mimetype": "text/x-python",
   "name": "python",
   "nbconvert_exporter": "python",
   "pygments_lexer": "ipython3",
   "version": "3.8.8"
  }
 },
 "nbformat": 4,
 "nbformat_minor": 5
}
